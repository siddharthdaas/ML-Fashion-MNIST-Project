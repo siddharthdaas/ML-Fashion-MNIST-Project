{
 "cells": [
  {
   "cell_type": "markdown",
   "metadata": {},
   "source": [
    "<h1 align='center' style=\"color: blue;\">Fashion MNIST Project</h1>"
   ]
  },
  {
   "cell_type": "markdown",
   "metadata": {},
   "source": [
    "The aim is to work on a popular Fashion MNIST dataset for this project. The dataset includes tiny images of fashion pieces. The objective is to create a set of supervised learning models that can predict the type of item based on its image. You can use all different models that you learned about them in this course for yourr work. Keep in mind that this is a project, not a class assignmnet. So, not all steps are predetermined and you have more flexibility, and the final outcome is likely to be more detailed."
   ]
  },
  {
   "cell_type": "markdown",
   "metadata": {},
   "source": [
    "In order to load the dataset you need to have `tensorflow V2` on your computer. Use the following code to install the package"
   ]
  },
  {
   "cell_type": "code",
   "execution_count": 3,
   "metadata": {},
   "outputs": [
    {
     "name": "stdout",
     "output_type": "stream",
     "text": [
      "Requirement already satisfied: tensorflow in c:\\users\\siddh\\anaconda3\\lib\\site-packages (2.10.0)\n",
      "Requirement already satisfied: tensorflow-io-gcs-filesystem>=0.23.1 in c:\\users\\siddh\\anaconda3\\lib\\site-packages (from tensorflow) (0.27.0)\n",
      "Requirement already satisfied: keras-preprocessing>=1.1.1 in c:\\users\\siddh\\anaconda3\\lib\\site-packages (from tensorflow) (1.1.2)\n",
      "Requirement already satisfied: libclang>=13.0.0 in c:\\users\\siddh\\anaconda3\\lib\\site-packages (from tensorflow) (14.0.6)\n",
      "Requirement already satisfied: wrapt>=1.11.0 in c:\\users\\siddh\\anaconda3\\lib\\site-packages (from tensorflow) (1.12.1)\n",
      "Requirement already satisfied: typing-extensions>=3.6.6 in c:\\users\\siddh\\anaconda3\\lib\\site-packages (from tensorflow) (3.7.4.3)\n",
      "Requirement already satisfied: tensorboard<2.11,>=2.10 in c:\\users\\siddh\\anaconda3\\lib\\site-packages (from tensorflow) (2.10.1)\n",
      "Requirement already satisfied: opt-einsum>=2.3.2 in c:\\users\\siddh\\anaconda3\\lib\\site-packages (from tensorflow) (3.3.0)\n",
      "Requirement already satisfied: termcolor>=1.1.0 in c:\\users\\siddh\\anaconda3\\lib\\site-packages (from tensorflow) (2.0.1)\n",
      "Requirement already satisfied: absl-py>=1.0.0 in c:\\users\\siddh\\anaconda3\\lib\\site-packages (from tensorflow) (1.3.0)\n",
      "Requirement already satisfied: gast<=0.4.0,>=0.2.1 in c:\\users\\siddh\\anaconda3\\lib\\site-packages (from tensorflow) (0.4.0)\n",
      "Requirement already satisfied: astunparse>=1.6.0 in c:\\users\\siddh\\anaconda3\\lib\\site-packages (from tensorflow) (1.6.3)\n",
      "Requirement already satisfied: google-pasta>=0.1.1 in c:\\users\\siddh\\anaconda3\\lib\\site-packages (from tensorflow) (0.2.0)\n",
      "Requirement already satisfied: flatbuffers>=2.0 in c:\\users\\siddh\\anaconda3\\lib\\site-packages (from tensorflow) (22.10.26)\n",
      "Requirement already satisfied: packaging in c:\\users\\siddh\\anaconda3\\lib\\site-packages (from tensorflow) (20.9)\n",
      "Requirement already satisfied: h5py>=2.9.0 in c:\\users\\siddh\\anaconda3\\lib\\site-packages (from tensorflow) (2.10.0)\n",
      "Requirement already satisfied: tensorflow-estimator<2.11,>=2.10.0 in c:\\users\\siddh\\anaconda3\\lib\\site-packages (from tensorflow) (2.10.0)\n",
      "Requirement already satisfied: numpy>=1.20 in c:\\users\\siddh\\anaconda3\\lib\\site-packages (from tensorflow) (1.20.1)\n",
      "Requirement already satisfied: setuptools in c:\\users\\siddh\\anaconda3\\lib\\site-packages (from tensorflow) (52.0.0.post20210125)\n",
      "Requirement already satisfied: grpcio<2.0,>=1.24.3 in c:\\users\\siddh\\anaconda3\\lib\\site-packages (from tensorflow) (1.50.0)\n",
      "Requirement already satisfied: six>=1.12.0 in c:\\users\\siddh\\anaconda3\\lib\\site-packages (from tensorflow) (1.15.0)\n",
      "Requirement already satisfied: keras<2.11,>=2.10.0 in c:\\users\\siddh\\anaconda3\\lib\\site-packages (from tensorflow) (2.10.0)\n",
      "Requirement already satisfied: protobuf<3.20,>=3.9.2 in c:\\users\\siddh\\anaconda3\\lib\\site-packages (from tensorflow) (3.19.6)\n",
      "Requirement already satisfied: wheel<1.0,>=0.23.0 in c:\\users\\siddh\\anaconda3\\lib\\site-packages (from astunparse>=1.6.0->tensorflow) (0.36.2)\n",
      "Requirement already satisfied: tensorboard-data-server<0.7.0,>=0.6.0 in c:\\users\\siddh\\anaconda3\\lib\\site-packages (from tensorboard<2.11,>=2.10->tensorflow) (0.6.1)\n",
      "Requirement already satisfied: werkzeug>=1.0.1 in c:\\users\\siddh\\anaconda3\\lib\\site-packages (from tensorboard<2.11,>=2.10->tensorflow) (1.0.1)\n",
      "Requirement already satisfied: requests<3,>=2.21.0 in c:\\users\\siddh\\anaconda3\\lib\\site-packages (from tensorboard<2.11,>=2.10->tensorflow) (2.25.1)\n",
      "Requirement already satisfied: markdown>=2.6.8 in c:\\users\\siddh\\anaconda3\\lib\\site-packages (from tensorboard<2.11,>=2.10->tensorflow) (3.4.1)\n",
      "Requirement already satisfied: google-auth-oauthlib<0.5,>=0.4.1 in c:\\users\\siddh\\anaconda3\\lib\\site-packages (from tensorboard<2.11,>=2.10->tensorflow) (0.4.6)\n",
      "Requirement already satisfied: google-auth<3,>=1.6.3 in c:\\users\\siddh\\anaconda3\\lib\\site-packages (from tensorboard<2.11,>=2.10->tensorflow) (2.13.0)\n",
      "Requirement already satisfied: tensorboard-plugin-wit>=1.6.0 in c:\\users\\siddh\\anaconda3\\lib\\site-packages (from tensorboard<2.11,>=2.10->tensorflow) (1.8.1)\n",
      "Requirement already satisfied: rsa<5,>=3.1.4 in c:\\users\\siddh\\anaconda3\\lib\\site-packages (from google-auth<3,>=1.6.3->tensorboard<2.11,>=2.10->tensorflow) (4.9)\n",
      "Requirement already satisfied: pyasn1-modules>=0.2.1 in c:\\users\\siddh\\anaconda3\\lib\\site-packages (from google-auth<3,>=1.6.3->tensorboard<2.11,>=2.10->tensorflow) (0.2.8)\n",
      "Requirement already satisfied: cachetools<6.0,>=2.0.0 in c:\\users\\siddh\\anaconda3\\lib\\site-packages (from google-auth<3,>=1.6.3->tensorboard<2.11,>=2.10->tensorflow) (5.2.0)\n",
      "Requirement already satisfied: requests-oauthlib>=0.7.0 in c:\\users\\siddh\\anaconda3\\lib\\site-packages (from google-auth-oauthlib<0.5,>=0.4.1->tensorboard<2.11,>=2.10->tensorflow) (1.3.1)\n",
      "Requirement already satisfied: importlib-metadata>=4.4 in c:\\users\\siddh\\anaconda3\\lib\\site-packages (from markdown>=2.6.8->tensorboard<2.11,>=2.10->tensorflow) (5.0.0)\n",
      "Requirement already satisfied: zipp>=0.5 in c:\\users\\siddh\\anaconda3\\lib\\site-packages (from importlib-metadata>=4.4->markdown>=2.6.8->tensorboard<2.11,>=2.10->tensorflow) (3.4.1)\n",
      "Requirement already satisfied: pyasn1<0.5.0,>=0.4.6 in c:\\users\\siddh\\anaconda3\\lib\\site-packages (from pyasn1-modules>=0.2.1->google-auth<3,>=1.6.3->tensorboard<2.11,>=2.10->tensorflow) (0.4.8)\n",
      "Requirement already satisfied: certifi>=2017.4.17 in c:\\users\\siddh\\anaconda3\\lib\\site-packages (from requests<3,>=2.21.0->tensorboard<2.11,>=2.10->tensorflow) (2020.12.5)\n",
      "Requirement already satisfied: idna<3,>=2.5 in c:\\users\\siddh\\anaconda3\\lib\\site-packages (from requests<3,>=2.21.0->tensorboard<2.11,>=2.10->tensorflow) (2.10)\n",
      "Requirement already satisfied: urllib3<1.27,>=1.21.1 in c:\\users\\siddh\\anaconda3\\lib\\site-packages (from requests<3,>=2.21.0->tensorboard<2.11,>=2.10->tensorflow) (1.26.4)\n",
      "Requirement already satisfied: chardet<5,>=3.0.2 in c:\\users\\siddh\\anaconda3\\lib\\site-packages (from requests<3,>=2.21.0->tensorboard<2.11,>=2.10->tensorflow) (4.0.0)\n",
      "Requirement already satisfied: oauthlib>=3.0.0 in c:\\users\\siddh\\anaconda3\\lib\\site-packages (from requests-oauthlib>=0.7.0->google-auth-oauthlib<0.5,>=0.4.1->tensorboard<2.11,>=2.10->tensorflow) (3.2.2)\n",
      "Requirement already satisfied: pyparsing>=2.0.2 in c:\\users\\siddh\\anaconda3\\lib\\site-packages (from packaging->tensorflow) (2.4.7)\n",
      "Note: you may need to restart the kernel to use updated packages.\n"
     ]
    }
   ],
   "source": [
    "pip install --upgrade tensorflow"
   ]
  },
  {
   "cell_type": "markdown",
   "metadata": {},
   "source": [
    "You can also check the version of it using the following code."
   ]
  },
  {
   "cell_type": "code",
   "execution_count": 4,
   "metadata": {},
   "outputs": [
    {
     "data": {
      "text/plain": [
       "'2.10.0'"
      ]
     },
     "execution_count": 4,
     "metadata": {},
     "output_type": "execute_result"
    }
   ],
   "source": [
    "import tensorflow as tf\n",
    "tf.__version__"
   ]
  },
  {
   "cell_type": "markdown",
   "metadata": {},
   "source": [
    "Now, it's time to load the dataset"
   ]
  },
  {
   "cell_type": "code",
   "execution_count": 33,
   "metadata": {},
   "outputs": [],
   "source": [
    "from tensorflow import keras\n",
    "fashion_mnist = keras.datasets.fashion_mnist\n",
    "(X_train, y_train), (X_test, y_test) = fashion_mnist.load_data()"
   ]
  },
  {
   "cell_type": "markdown",
   "metadata": {},
   "source": [
    "As can be seen from the above code, the dataset was divided into train and test sets. Let's take a look at the X_train"
   ]
  },
  {
   "cell_type": "code",
   "execution_count": 34,
   "metadata": {},
   "outputs": [
    {
     "data": {
      "text/plain": [
       "(60000, 28, 28)"
      ]
     },
     "execution_count": 34,
     "metadata": {},
     "output_type": "execute_result"
    }
   ],
   "source": [
    "X_train.shape"
   ]
  },
  {
   "cell_type": "markdown",
   "metadata": {},
   "source": [
    "As it is clear, the train dataset (`X_train`) contains 60,000 images of size 28 x 28. We can visualize one of the images using the following code:"
   ]
  },
  {
   "cell_type": "code",
   "execution_count": 35,
   "metadata": {},
   "outputs": [
    {
     "data": {
      "image/png": "[encoded data removed]",
      "text/plain": [
       "<Figure size 432x288 with 1 Axes>"
      ]
     },
     "metadata": {
      "needs_background": "light"
     },
     "output_type": "display_data"
    }
   ],
   "source": [
    "import matplotlib as mpl\n",
    "import matplotlib.pyplot as plt\n",
    "%matplotlib inline\n",
    "\n",
    "sample_image = X_train[10]\n",
    "plt.imshow(sample_image, cmap='binary')\n",
    "plt.axis('off')\n",
    "plt.show()"
   ]
  },
  {
   "cell_type": "markdown",
   "metadata": {},
   "source": [
    "The `y_train` also includes values between 0 and 9. Each represents a particular category. For example, we can check the value of `y_train` for the above image."
   ]
  },
  {
   "cell_type": "code",
   "execution_count": 36,
   "metadata": {},
   "outputs": [
    {
     "data": {
      "text/plain": [
       "0"
      ]
     },
     "execution_count": 36,
     "metadata": {},
     "output_type": "execute_result"
    }
   ],
   "source": [
    "y_train[10]"
   ]
  },
  {
   "cell_type": "markdown",
   "metadata": {},
   "source": [
    "The above code shows that the image belongs to category 0. To get the associated label with each category, you can use the following code:"
   ]
  },
  {
   "cell_type": "code",
   "execution_count": 37,
   "metadata": {},
   "outputs": [
    {
     "name": "stdout",
     "output_type": "stream",
     "text": [
      "T-shirt/top\n"
     ]
    }
   ],
   "source": [
    "class_names = ['T-shirt/top','Trouser','Pullover','Dress','Coat','Sandal','Shirt','Sneaker','Bag','Ankle boot']\n",
    "print(class_names[y_train[10]])"
   ]
  },
  {
   "cell_type": "markdown",
   "metadata": {},
   "source": [
    "Now, it's your turn,"
   ]
  },
  {
   "cell_type": "markdown",
   "metadata": {},
   "source": [
    "<ul>\n",
    "    <li><b>Task1:</b> Use the train set to train various supervised models and evaluate their performance using the test set.</li>\n",
    "    <ul>\n",
    "        <li>Use different supervised learning models.</li>\n",
    "        <li>Use different metrics such as <b>accutacy</b>, <b>precision</b>, <b>AUC</b>, and ... in your model evaluation. </li>\n",
    "        <li>It is not enough to report the metrics. It is crucial that you interpret the metrics for each model and compare them across different models.</li>\n",
    "        <li> You may need to use the cross validation methods for hyperparameter selection.</li>\n",
    "        <li> Specify the model that outperforms the other models.</b>\n",
    "    </ul>\n",
    "    <li><b>Task2:</b> Use the best model to predict your own fashion pieces.</li>\n",
    "    <ul>\n",
    "        <li>Take a picture of five fashion pieces of your own (take pictures in square format).</li>\n",
    "        <li>Resize images to the correct size (28,28).</li>\n",
    "        <li>Grayscale your images.</li>\n",
    "        <li>Visualize all the images side by side</li>\n",
    "        <li>Use the best model in Task 1 to predict the label of each of your own images.</li>\n",
    "        <li>How accurate is the final result?</li>\n",
    "    </ul>\n",
    "</ul>"
   ]
  },
  {
   "cell_type": "markdown",
   "metadata": {},
   "source": [
    " **Step 1. Data Preprocessing Phase**"
   ]
  },
  {
   "cell_type": "markdown",
   "metadata": {},
   "source": [
    "* **Data preprocessing phase for the train dataset**"
   ]
  },
  {
   "cell_type": "code",
   "execution_count": 38,
   "metadata": {},
   "outputs": [
    {
     "data": {
      "text/plain": [
       "(60000, 784)"
      ]
     },
     "execution_count": 38,
     "metadata": {},
     "output_type": "execute_result"
    }
   ],
   "source": [
    "#TRANSFORMING THE TRAINING DATA SET FROM 3 DIMENSIONAL TO 2 DIMENSIONAL SHAPE\n",
    "vol, x_axis, y_axis = X_train.shape\n",
    "train_transformed_data= X_train.reshape((vol,x_axis*y_axis))\n",
    "train_transformed_data.shape"
   ]
  },
  {
   "cell_type": "markdown",
   "metadata": {},
   "source": [
    "* **In the code above we observe that we have transformed the 3 - d imensionalshape to 2-dimensional shape**\n",
    "\n",
    "* **Data preprocess for test dataset**"
   ]
  },
  {
   "cell_type": "code",
   "execution_count": 39,
   "metadata": {},
   "outputs": [
    {
     "data": {
      "text/plain": [
       "(10000, 784)"
      ]
     },
     "execution_count": 39,
     "metadata": {},
     "output_type": "execute_result"
    }
   ],
   "source": [
    "#TRANSFORMING THE TESTING DATA SET 3 DIMENSIONAL TO 2 DIMENSIONAL SHAPE\n",
    "vol, x_axis, y_axis = X_train.shape\n",
    "vol, x_axis, y_axis = X_test.shape\n",
    "test_transformed_data= X_test.reshape((vol,x_axis*y_axis))\n",
    "test_transformed_data.shape\n"
   ]
  },
  {
   "cell_type": "markdown",
   "metadata": {},
   "source": [
    "* **Above can see ,we have transformed 3-d shape to 2-d shape**"
   ]
  },
  {
   "cell_type": "markdown",
   "metadata": {},
   "source": [
    "**Step 2. Fitting the various Machine learning models**"
   ]
  },
  {
   "cell_type": "markdown",
   "metadata": {},
   "source": [
    "**Model 1 - Part 1  Fitting the basic linear_model classifier**"
   ]
  },
  {
   "cell_type": "code",
   "execution_count": 45,
   "metadata": {
    "scrolled": true
   },
   "outputs": [
    {
     "name": "stderr",
     "output_type": "stream",
     "text": [
      "C:\\Users\\siddh\\anaconda3\\lib\\site-packages\\sklearn\\linear_model\\_logistic.py:763: ConvergenceWarning: lbfgs failed to converge (status=1):\n",
      "STOP: TOTAL NO. of ITERATIONS REACHED LIMIT.\n",
      "\n",
      "Increase the number of iterations (max_iter) or scale the data as shown in:\n",
      "    https://scikit-learn.org/stable/modules/preprocessing.html\n",
      "Please also refer to the documentation for alternative solver options:\n",
      "    https://scikit-learn.org/stable/modules/linear_model.html#logistic-regression\n",
      "  n_iter_i = _check_optimize_result(\n"
     ]
    },
    {
     "data": {
      "text/plain": [
       "LogisticRegression(max_iter=70, random_state=150)"
      ]
     },
     "execution_count": 45,
     "metadata": {},
     "output_type": "execute_result"
    }
   ],
   "source": [
    "#importing the linear_model from scikit learn \n",
    "from sklearn.linear_model import LogisticRegression\n",
    "classifier=LogisticRegression(random_state=150,solver='lbfgs',max_iter=70)\n",
    "#fitting the model on train dataset\n",
    "classifier.fit(train_transformed_data,y_train)"
   ]
  },
  {
   "cell_type": "markdown",
   "metadata": {},
   "source": [
    "**Model 1 - Evaluating the results of test dataset using LogisticRegression**"
   ]
  },
  {
   "cell_type": "code",
   "execution_count": 46,
   "metadata": {},
   "outputs": [],
   "source": [
    "#IMPORTING METRICS FOR SCKIKIT LEARN\n",
    "from sklearn.metrics import accuracy_score\n",
    "from sklearn.metrics import roc_auc_score\n",
    "from sklearn.metrics import precision_score\n",
    "from sklearn.metrics import recall_score"
   ]
  },
  {
   "cell_type": "code",
   "execution_count": 47,
   "metadata": {},
   "outputs": [
    {
     "name": "stdout",
     "output_type": "stream",
     "text": [
      "Logistic regression Accuracy: 0.8376\n",
      "Logistic regression ROC_score: 0.9820224333333332\n",
      "Logistic regression Precision: 0.836681520687763\n",
      "Logistic regression Recall: 0.8375999999999999\n"
     ]
    }
   ],
   "source": [
    "#HERE WE ARE PREDICTING THE RESULTS FOR THE TEST DATASET\n",
    "pred_y=classifier.predict(test_transformed_data)\n",
    "\n",
    "# HERE WE ARE CALCULATING THE ACCURACY, PRECISION, RECALL and AUC \n",
    "# FOR THE TEST DATASET\n",
    "classifier_acc=accuracy_score(y_test, pred_y)\n",
    "classifier_precision = precision_score(y_test, pred_y, average='macro')\n",
    "classifier_recall = recall_score(y_test, pred_y, average='macro')\n",
    "classifier_roc_auc=roc_auc_score(y_test,classifier.predict_proba(test_transformed_data),multi_class='ovr')\n",
    "\n",
    "print('Logistic regression Accuracy:',classifier_acc)\n",
    "print('Logistic regression ROC_score:',classifier_roc_auc)\n",
    "print('Logistic regression Precision:',classifier_precision)\n",
    "print('Logistic regression Recall:',classifier_recall)"
   ]
  },
  {
   "cell_type": "markdown",
   "metadata": {},
   "source": [
    "**Model 2. Training the Naive Bayes Classifier**\n",
    "\n"
   ]
  },
  {
   "cell_type": "code",
   "execution_count": 48,
   "metadata": {},
   "outputs": [
    {
     "data": {
      "text/plain": [
       "MultinomialNB(alpha=100)"
      ]
     },
     "execution_count": 48,
     "metadata": {},
     "output_type": "execute_result"
    }
   ],
   "source": [
    "#Importing multinomialnaive_bayes classifier from scikit learn \n",
    "from sklearn.naive_bayes import MultinomialNB\n",
    "classifier=MultinomialNB(alpha=100)\n",
    "#fitting the model on train dataset\n",
    "classifier.fit(train_transformed_data,y_train)"
   ]
  },
  {
   "cell_type": "code",
   "execution_count": 49,
   "metadata": {},
   "outputs": [
    {
     "name": "stdout",
     "output_type": "stream",
     "text": [
      "Naive Bayes Accuracy: 0.6555\n",
      "Naive Bayes ROC_score: 0.8255419722222221\n",
      "Naive Bayes Precision: 0.6542241740403146\n",
      "Naive Bayes Recall: 0.6555\n"
     ]
    }
   ],
   "source": [
    "# NAIVE BAYES \n",
    "#PREDICTING THE RESULTS OF THE TEST DATASET\n",
    "pred_y=classifier.predict(test_transformed_data)\n",
    "\n",
    "# HERE WE ARE CALCULATING THE ACCURACY, PRECISION, RECALL and AUC \n",
    "# FOR THE TEST DATASET\n",
    "classifier_acc=accuracy_score(y_test, pred_y)\n",
    "classifier_precision = precision_score(y_test, pred_y, average='macro')\n",
    "classifier_recall = recall_score(y_test, pred_y, average='macro')\n",
    "classifier_roc_auc=roc_auc_score(y_test,classifier.predict_proba(test_transformed_data),multi_class='ovr')\n",
    "\n",
    "print('Naive Bayes Accuracy:',classifier_acc)\n",
    "print('Naive Bayes ROC_score:',classifier_roc_auc)\n",
    "print('Naive Bayes Precision:',classifier_precision)\n",
    "print('Naive Bayes Recall:',classifier_recall)"
   ]
  },
  {
   "cell_type": "markdown",
   "metadata": {},
   "source": [
    "**MODEL 3.Training the KNN classifier**"
   ]
  },
  {
   "cell_type": "code",
   "execution_count": 50,
   "metadata": {},
   "outputs": [
    {
     "data": {
      "text/plain": [
       "KNeighborsClassifier(n_neighbors=3)"
      ]
     },
     "execution_count": 50,
     "metadata": {},
     "output_type": "execute_result"
    }
   ],
   "source": [
    "#importing the knn from scikit learn \n",
    "from sklearn.neighbors import KNeighborsClassifier\n",
    "classifier=KNeighborsClassifier(n_neighbors=3)\n",
    "\n",
    "#fitting the model on train dataset\n",
    "classifier.fit(train_transformed_data,y_train)"
   ]
  },
  {
   "cell_type": "code",
   "execution_count": 51,
   "metadata": {},
   "outputs": [
    {
     "name": "stdout",
     "output_type": "stream",
     "text": [
      "KNN Accuracy: 0.8541\n",
      "KNN ROC_score: 0.9583711777777777\n",
      "KNN Precision: 0.8575414622679564\n",
      "KNN Recall: 0.8541000000000001\n"
     ]
    }
   ],
   "source": [
    "# KNN\n",
    "#PREDICTING THE RESULTS OF THE TEST DATASET\n",
    "pred_y=classifier.predict(test_transformed_data)\n",
    "\n",
    "# HERE WE ARE CALCULATING THE ACCURACY, PRECISION, RECALL and AUC \n",
    "# FOR THE TEST DATASET\n",
    "classifier_acc=accuracy_score(y_test, pred_y)\n",
    "classifier_roc_auc=roc_auc_score(y_test,classifier.predict_proba(test_transformed_data),multi_class='ovr')\n",
    "classifier_precision = precision_score(y_test, pred_y, average='macro')\n",
    "classifier_recall = recall_score(y_test, pred_y, average='macro')\n",
    "print('KNN Accuracy:',classifier_acc)\n",
    "print('KNN ROC_score:',classifier_roc_auc)\n",
    "print('KNN Precision:',classifier_precision)\n",
    "print('KNN Recall:',classifier_recall)"
   ]
  },
  {
   "cell_type": "markdown",
   "metadata": {},
   "source": [
    "**MODEL 4.Training the DecisionTree classifier**"
   ]
  },
  {
   "cell_type": "code",
   "execution_count": 52,
   "metadata": {},
   "outputs": [
    {
     "data": {
      "text/plain": [
       "DecisionTreeClassifier(max_features='sqrt', random_state=32)"
      ]
     },
     "execution_count": 52,
     "metadata": {},
     "output_type": "execute_result"
    }
   ],
   "source": [
    "#DecisionTree Classifier from scikit learn \n",
    "from sklearn.tree import DecisionTreeClassifier\n",
    "classifier=DecisionTreeClassifier(random_state=32,max_features='sqrt')\n",
    "#training the model\n",
    "classifier.fit(train_transformed_data,y_train)"
   ]
  },
  {
   "cell_type": "code",
   "execution_count": 53,
   "metadata": {},
   "outputs": [
    {
     "name": "stdout",
     "output_type": "stream",
     "text": [
      "Decision Tree Accuracy: 0.7806\n",
      "Decision Tree ROC_score: 0.8781111111111111\n",
      "Decision Tree Precision: 0.7818203752640166\n",
      "Decision Tree Recall: 0.7806000000000001\n"
     ]
    }
   ],
   "source": [
    "# Decision Tree\n",
    "#PREDICTING THE RESULTS OF THE TEST DATASET\n",
    "pred_y=classifier.predict(test_transformed_data)\n",
    "\n",
    "# HERE WE ARE CALCULATING THE ACCURACY, PRECISION, RECALL and AUC \n",
    "# FOR THE TEST DATASET\n",
    "classifier_acc=accuracy_score(y_test, pred_y)\n",
    "classifier_precision = precision_score(y_test, pred_y, average='macro')\n",
    "classifier_recall = recall_score(y_test, pred_y, average='macro')\n",
    "classifier_roc_auc=roc_auc_score(y_test,classifier.predict_proba(test_transformed_data),multi_class='ovr')\n",
    "print('Decision Tree Accuracy:',classifier_acc)\n",
    "print('Decision Tree ROC_score:',classifier_roc_auc)\n",
    "print('Decision Tree Precision:',classifier_precision)\n",
    "print('Decision Tree Recall:',classifier_recall)\n"
   ]
  },
  {
   "cell_type": "markdown",
   "metadata": {},
   "source": [
    "**MODEL 5 - Training the RandomForest classifier**\n"
   ]
  },
  {
   "cell_type": "code",
   "execution_count": 54,
   "metadata": {},
   "outputs": [
    {
     "data": {
      "text/plain": [
       "RandomForestClassifier(max_depth=25, n_estimators=150, random_state=24)"
      ]
     },
     "execution_count": 54,
     "metadata": {},
     "output_type": "execute_result"
    }
   ],
   "source": [
    "\n",
    "#RandomForest Classifier from scikit learn library\n",
    "from sklearn.ensemble import RandomForestClassifier\n",
    "classifier=RandomForestClassifier(random_state=24,n_estimators=150,max_depth=25)\n",
    "#training the model\n",
    "classifier.fit(train_transformed_data,y_train)"
   ]
  },
  {
   "cell_type": "code",
   "execution_count": 55,
   "metadata": {},
   "outputs": [
    {
     "name": "stdout",
     "output_type": "stream",
     "text": [
      "Random Forest Accuracy: 0.8768\n",
      "Random Forest ROC_score: 0.9897017611111112\n",
      "Random Forest Precision: 0.8758337064445048\n",
      "Random Forest Recall: 0.8768\n"
     ]
    }
   ],
   "source": [
    "#RANDOM FOREST\n",
    "#PREDICTING THE RESULTS OF THE TEST DATASET\n",
    "pred_y=classifier.predict(test_transformed_data)\n",
    "\n",
    "# HERE WE ARE CALCULATING THE ACCURACY, PRECISION, RECALL and AUC \n",
    "# FOR THE TEST DATASET\n",
    "classifier_acc=accuracy_score(y_test, pred_y)\n",
    "classifier_roc_auc=roc_auc_score(y_test,classifier.predict_proba(test_transformed_data),multi_class='ovr')\n",
    "classifier_precision = precision_score(y_test, pred_y, average='macro')\n",
    "classifier_recall = recall_score(y_test, pred_y, average='macro')\n",
    "print('Random Forest Accuracy:',classifier_acc)\n",
    "print('Random Forest ROC_score:',classifier_roc_auc)\n",
    "print('Random Forest Precision:',classifier_precision)\n",
    "print('Random Forest Recall:',classifier_recall)"
   ]
  },
  {
   "cell_type": "markdown",
   "metadata": {},
   "source": [
    "According to the interpretation of running the above models, it is preferable to choose the  **Random Forest Classifier** because it is giving good and highest results on the test dataset. "
   ]
  },
  {
   "cell_type": "markdown",
   "metadata": {},
   "source": [
    "# **Task 2**"
   ]
  },
  {
   "cell_type": "markdown",
   "metadata": {},
   "source": [
    "**We are predicting the results for our own fashion images using Random Forest Classifier**"
   ]
  },
  {
   "cell_type": "code",
   "execution_count": 115,
   "metadata": {},
   "outputs": [
    {
     "name": "stdout",
     "output_type": "stream",
     "text": [
      "Requirement already satisfied: opencv-python in c:\\users\\siddh\\anaconda3\\lib\\site-packages (4.6.0.66)\n",
      "Requirement already satisfied: numpy>=1.14.5 in c:\\users\\siddh\\anaconda3\\lib\\site-packages (from opencv-python) (1.20.1)\n"
     ]
    }
   ],
   "source": [
    "!pip3 install opencv-python\n",
    "import cv2\n",
    "#C:\\Users\\siddh\\Downloads\\test_images\n",
    "#To read our own fashion pictures \n",
    "Bag =cv2.imread('/Users/siddh/Downloads/test_images/Bag_1.jpeg')\n",
    "Pullover =cv2.imread('/Users/siddh/Downloads/test_images/Pullover.jpeg')\n",
    "Shirt =cv2.imread('/Users/siddh/Downloads/test_images/Shirt.jpeg')\n",
    "Trouser =cv2.imread('/Users/siddh/Downloads/test_images/Trouser.jpeg')\n",
    "Tshirt=cv2.imread('/Users/siddh/Downloads/test_images/Tshirt.jpeg')\n",
    "B1 =cv2.imread('/Users/siddh/Downloads/test_images/Bag_1.jpeg')\n",
    "\n",
    "#Reshaping the above images into a square format of (28,28) dimensions\n",
    "Bag =cv2.resize(Bag,(28,28))\n",
    "Pullover =cv2.resize(Pullover,(28,28))\n",
    "Shirt =cv2.resize(Shirt,(28,28))\n",
    "Trouser =cv2.resize(Trouser,(28,28))\n",
    "Tshirt=cv2.resize(Tshirt,(28,28))"
   ]
  },
  {
   "cell_type": "markdown",
   "metadata": {},
   "source": [
    "**Changing the Coloured images into a  GrayScale image format**"
   ]
  },
  {
   "cell_type": "code",
   "execution_count": 118,
   "metadata": {},
   "outputs": [],
   "source": [
    "Bag_img = cv2.cvtColor(Bag,cv2.COLOR_BGR2GRAY)\n",
    "Pullover_img = cv2.cvtColor(Pullover,cv2.COLOR_BGR2GRAY)\n",
    "Shirt_img = cv2.cvtColor(Shirt,cv2.COLOR_BGR2GRAY)\n",
    "Trouser_img = cv2.cvtColor(Trouser,cv2.COLOR_BGR2GRAY)\n",
    "Tshirt_img = cv2.cvtColor(Tshirt,cv2.COLOR_BGR2GRAY)"
   ]
  },
  {
   "cell_type": "markdown",
   "metadata": {},
   "source": [
    "**To display all images**"
   ]
  },
  {
   "cell_type": "code",
   "execution_count": 120,
   "metadata": {},
   "outputs": [
    {
     "data": {
      "image/png": "[encoded data removed]",
      "text/plain": [
       "<Figure size 432x288 with 1 Axes>"
      ]
     },
     "metadata": {
      "needs_background": "light"
     },
     "output_type": "display_data"
    },
    {
     "data": {
      "image/png": "[encoded data removed]",
      "text/plain": [
       "<Figure size 432x288 with 1 Axes>"
      ]
     },
     "metadata": {
      "needs_background": "light"
     },
     "output_type": "display_data"
    },
    {
     "data": {
      "image/png": "[encoded data removed]",
      "text/plain": [
       "<Figure size 432x288 with 1 Axes>"
      ]
     },
     "metadata": {
      "needs_background": "light"
     },
     "output_type": "display_data"
    },
    {
     "data": {
      "image/png": "[encoded data removed]",
      "text/plain": [
       "<Figure size 432x288 with 1 Axes>"
      ]
     },
     "metadata": {
      "needs_background": "light"
     },
     "output_type": "display_data"
    },
    {
     "data": {
      "image/png": "[encoded data removed]",
      "text/plain": [
       "<Figure size 432x288 with 1 Axes>"
      ]
     },
     "metadata": {
      "needs_background": "light"
     },
     "output_type": "display_data"
    }
   ],
   "source": [
    "import matplotlib.pyplot as plt\n",
    "plt.imshow(Bag_img, cmap='binary')\n",
    "plt.axis('on')\n",
    "plt.show()\n",
    "\n",
    "plt.imshow(Pullover_img, cmap='binary')\n",
    "plt.axis('on')\n",
    "plt.show()\n",
    "\n",
    "plt.imshow(Shirt_img, cmap='binary')\n",
    "plt.axis('on')\n",
    "plt.show()\n",
    "\n",
    "plt.imshow(Trouser_img, cmap='binary')\n",
    "plt.axis('on')\n",
    "plt.show()\n",
    "\n",
    "plt.imshow(Tshirt_img, cmap='binary')\n",
    "plt.axis('on')\n",
    "plt.show()\n"
   ]
  },
  {
   "cell_type": "markdown",
   "metadata": {},
   "source": [
    "**Transforming the 3-D images to 2-D Images**"
   ]
  },
  {
   "cell_type": "code",
   "execution_count": 102,
   "metadata": {},
   "outputs": [],
   "source": [
    "x_axis, y_axis,vol = Bag.shape\n",
    "Bag_2 = Bag.reshape((vol,x_axis*y_axis))\n",
    "\n",
    "x_axis, y_axis,vol = Pullover.shape\n",
    "Pullover_2= Pullover.reshape((vol,x_axis*y_axis))\n",
    "\n",
    "x_axis, y_axis,vol = Shirt.shape\n",
    "Shirt_2 = Shirt.reshape((vol,x_axis*y_axis))\n",
    "\n",
    "x_axis, y_axis,vol = Trouser.shape\n",
    "Trouser_2 = Trouser.reshape((vol,x_axis*y_axis))\n",
    "\n",
    "x_axis, y_axis,vol = Tshirt.shape\n",
    "Tshirt_2 = Tshirt.reshape((vol,x_axis*y_axis))\n",
    "\n"
   ]
  },
  {
   "cell_type": "markdown",
   "metadata": {},
   "source": [
    "**Predicting the Fashion pieces using RandomForest**"
   ]
  },
  {
   "cell_type": "code",
   "execution_count": 103,
   "metadata": {},
   "outputs": [
    {
     "name": "stdout",
     "output_type": "stream",
     "text": [
      "solution1 : Bag\n"
     ]
    }
   ],
   "source": [
    "#Predicting Bag picture\n",
    "sol1=classifier.predict(Bag_2)\n",
    "print('solution1 :',class_names[sol1[0]])\n"
   ]
  },
  {
   "cell_type": "code",
   "execution_count": 104,
   "metadata": {},
   "outputs": [
    {
     "name": "stdout",
     "output_type": "stream",
     "text": [
      "solution2 : Bag\n"
     ]
    }
   ],
   "source": [
    "#Predicting Pullover picture\n",
    "sol2=classifier.predict(Pullover_2)\n",
    "print('solution2 :',class_names[sol2[0]])"
   ]
  },
  {
   "cell_type": "code",
   "execution_count": 105,
   "metadata": {},
   "outputs": [
    {
     "name": "stdout",
     "output_type": "stream",
     "text": [
      "solution3 : Bag\n"
     ]
    }
   ],
   "source": [
    "#Predicting Shirt picture\n",
    "sol3=classifier.predict(Shirt_2)\n",
    "print('solution3 :',class_names[sol3[0]])\n"
   ]
  },
  {
   "cell_type": "code",
   "execution_count": 106,
   "metadata": {},
   "outputs": [
    {
     "name": "stdout",
     "output_type": "stream",
     "text": [
      "solution4 : Bag\n"
     ]
    }
   ],
   "source": [
    "#Predicting Trouser picture\n",
    "sol4=classifier.predict(Trouser_2)\n",
    "print('solution4 :',class_names[sol4[0]])"
   ]
  },
  {
   "cell_type": "code",
   "execution_count": 109,
   "metadata": {},
   "outputs": [
    {
     "name": "stdout",
     "output_type": "stream",
     "text": [
      "solution5 : Bag\n"
     ]
    }
   ],
   "source": [
    "#Predicting T_Shirt picture\n",
    "sol5=classifier.predict(Tshirt_2)\n",
    "print('solution5 :',class_names[sol5[0]])"
   ]
  },
  {
   "cell_type": "markdown",
   "metadata": {},
   "source": [
    "**Inference - The Machine learning model is predicting the bag image correctly and classifying all other images also with the same class. This could be because of the small size of the image and limitations of the conventional machine learning models. Deep learning is the ideal choice for computer vision and therefore models like CNN would be the best fit**"
   ]
  }
 ],
 "metadata": {
  "kernelspec": {
   "display_name": "Python 3",
   "language": "python",
   "name": "python3"
  },
  "language_info": {
   "codemirror_mode": {
    "name": "ipython",
    "version": 3
   },
   "file_extension": ".py",
   "mimetype": "text/x-python",
   "name": "python",
   "nbconvert_exporter": "python",
   "pygments_lexer": "ipython3",
   "version": "3.8.8"
  }
 },
 "nbformat": 4,
 "nbformat_minor": 4
}
